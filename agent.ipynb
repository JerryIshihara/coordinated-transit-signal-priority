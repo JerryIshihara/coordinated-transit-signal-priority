{
 "cells": [
  {
   "cell_type": "code",
   "execution_count": 1,
   "metadata": {
    "colab": {},
    "colab_type": "code",
    "id": "oxGS_XGxlaYb",
    "scrolled": true
   },
   "outputs": [],
   "source": [
    "import sys\n",
    "sys.path.append('C:/Users/Public/Documents/ShalabyGroup/aimsun_ddqn_server - sig/modules/')\n",
    "import ddqn_framework as ddqn\n",
    "import mlp_framework as nn\n",
    "import pickle\n",
    "import numpy as np\n",
    "\n",
    "# STEP 1: create configuration\n",
    "if __name__ == '__main__':\n",
    "    configuration = ddqn.trainer_config(app_name='AimsunNext',\n",
    "                                    # BUFFER_SIZE = 50e3,\n",
    "                                    BUFFER_SIZE = 50000,\n",
    "                                    # STEPS_PER_EPISODE = 500,\n",
    "                                    STEPS_PER_EPISODE=500,\n",
    "                                    MAX_STEPS = 9999999,\n",
    "                                    # UPDATE_TARGET_STEPS = 1000,\n",
    "                                    UPDATE_TARGET_STEPS=1000,\n",
    "                                    BATCH_SIZE = 32,\n",
    "                                    GAMMA = 0.9,\n",
    "                                    EXPLORATION = 5000,a\n",
    "                                    E_MIN = 0.1,\n",
    "                                    priority = True,\n",
    "                                    # alpha = 0.001,\n",
    "                                    alpha = 0.01,\n",
    "                                    epsilon = 0.1\n",
    "                                    )\n",
    "\n",
    "    # STEP 2: build models (online & target)\n",
    "    A1 = nn.layer(configuration.INPUT_SIZE, nodes=512)\n",
    "    A2 = nn.layer(512, 512)\n",
    "    A3 = nn.layer(512, 512)\n",
    "    A4 = nn.layer(512, 512)\n",
    "    AOUT = nn.layer(512, configuration.OUTPUT_SIZE)\n",
    "    AOUT.f = nn.f_iden\n",
    "\n",
    "    L1 = nn.layer(configuration.INPUT_SIZE, nodes=512)\n",
    "    L2 = nn.layer(512, 512)\n",
    "    L3 = nn.layer(512, 512)\n",
    "    L4 = nn.layer(512, 512)\n",
    "    LOUT = nn.layer(512, configuration.OUTPUT_SIZE)\n",
    "    LOUT.f = nn.f_iden\n",
    "    \n",
    "    L1.w = np.copy(A1.w)\n",
    "    L2.w = np.copy(A2.w)\n",
    "    L3.w = np.copy(A3.w)\n",
    "    L4.w = np.copy(A4.w)\n",
    "    LOUT.w = np.copy(AOUT.w)\n",
    "    \n",
    "    onlineNet = nn.mlp([A1, A2, A3, A4, AOUT])\n",
    "    onlineNet.erf = nn.log_cosh  # cost in prev aimsun_dqn\n",
    "    targetNet = nn.mlp([L1, L2, L3, L4, LOUT])\n",
    "    targetNet.erf = nn.log_cosh  # cost in prev aimsun_dqn\n",
    "\n",
    "    # STEP 3: create trainer\n",
    "    ddqn_model = ddqn.trainer(onlineNet,targetNet,configuration)\n",
    "    ddqn_model.load_model(False)\n",
    "    \n",
    "    # STEP 5: train the trainer (dqn_model) for configuration.MAX_STEPS:\n",
    "    ddqn_model.train(log=True)"
   ]
  },
  {
   "cell_type": "code",
   "execution_count": null,
   "metadata": {},
   "outputs": [],
   "source": []
  }
 ],
 "metadata": {
  "colab": {
   "name": "Untitled0.ipynb",
   "provenance": [],
   "version": "0.3.2"
  },
  "kernelspec": {
   "display_name": "Python 3",
   "language": "python",
   "name": "python3"
  },
  "language_info": {
   "codemirror_mode": {
    "name": "ipython",
    "version": 3
   },
   "file_extension": ".py",
   "mimetype": "text/x-python",
   "name": "python",
   "nbconvert_exporter": "python",
   "pygments_lexer": "ipython3",
   "version": "3.7.6"
  }
 },
 "nbformat": 4,
 "nbformat_minor": 1
}
