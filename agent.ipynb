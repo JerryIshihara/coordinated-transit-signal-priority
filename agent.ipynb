{
 "cells": [
  {
   "cell_type": "code",
   "execution_count": null,
   "metadata": {
    "colab": {},
    "colab_type": "code",
    "id": "oxGS_XGxlaYb",
    "scrolled": true
   },
   "outputs": [
    {
     "name": "stdout",
     "output_type": "stream",
     "text": [
      "Reset Aimsun Environment\n",
      "Waiting for the first bus...\n"
     ]
    }
   ],
   "source": [
    "from Env import AimsunEnv\n",
    "from DQN import ddqn_framework as ddqn\n",
    "from DQN import mlp_framework as nn\n",
    "import numpy as np\n",
    "import pickle\n",
    "import itertools\n",
    "\n",
    "# env setup\n",
    "intx_action = np.arange(-20, 21, 5)\n",
    "action_space = list(itertools.product(intx_action, intx_action))\n",
    "env = AimsunEnv(action_space)\n",
    "\n",
    "clean_folder = True\n",
    "if clean_folder:\n",
    "    import config\n",
    "    config.clean_folder_and_initialize()\n",
    "\n",
    "# model config\n",
    "configuration = ddqn.trainer_config(app_name='AimsunNext',\n",
    "                                # BUFFER_SIZE = 50e3,\n",
    "                                BUFFER_SIZE = 50000,\n",
    "                                # STEPS_PER_EPISODE = 500,\n",
    "                                STEPS_PER_EPISODE=500,\n",
    "                                MAX_STEPS = 9999999,\n",
    "                                # UPDATE_TARGET_STEPS = 1000,\n",
    "                                UPDATE_TARGET_STEPS=3000,\n",
    "                                BATCH_SIZE = 32,\n",
    "                                GAMMA = 0.9,\n",
    "                                EXPLORATION = 5000,\n",
    "                                E_MIN = 0.1,\n",
    "                                priority = True,\n",
    "                                # alpha = 0.001,\n",
    "                                alpha = 0.01,\n",
    "                                epsilon = 0.1\n",
    "                                )\n",
    "\n",
    "# online model\n",
    "A1 = nn.layer(env.get_state_size(), nodes=512)\n",
    "A2 = nn.layer(512, 512)\n",
    "A3 = nn.layer(512, 512)\n",
    "A4 = nn.layer(512, 512)\n",
    "AOUT = nn.layer(512, env.get_action_size())\n",
    "AOUT.f = nn.f_iden\n",
    "\n",
    "# target model\n",
    "L1 = nn.layer(env.get_state_size(), nodes=512)\n",
    "L2 = nn.layer(512, 512)\n",
    "L3 = nn.layer(512, 512)\n",
    "L4 = nn.layer(512, 512)\n",
    "LOUT = nn.layer(512, env.get_action_size())\n",
    "LOUT.f = nn.f_iden\n",
    "\n",
    "onlineNet = nn.mlp([A1, A2, A3, A4, AOUT])\n",
    "onlineNet.erf = nn.log_cosh  # cost in prev aimsun_dqn\n",
    "targetNet = nn.mlp([L1, L2, L3, L4, LOUT])\n",
    "targetNet.erf = nn.log_cosh  # cost in prev aimsun_dqn\n",
    "\n",
    "ddqn_model = ddqn.trainer(onlineNet,targetNet,configuration, env)\n",
    "ddqn_model.load_model(False)\n",
    "ddqn_model.train(log=True)"
   ]
  },
  {
   "cell_type": "code",
   "execution_count": null,
   "metadata": {},
   "outputs": [],
   "source": []
  }
 ],
 "metadata": {
  "colab": {
   "name": "Untitled0.ipynb",
   "provenance": [],
   "version": "0.3.2"
  },
  "kernelspec": {
   "display_name": "Python 3",
   "language": "python",
   "name": "python3"
  },
  "language_info": {
   "codemirror_mode": {
    "name": "ipython",
    "version": 3
   },
   "file_extension": ".py",
   "mimetype": "text/x-python",
   "name": "python",
   "nbconvert_exporter": "python",
   "pygments_lexer": "ipython3",
   "version": "3.7.6"
  }
 },
 "nbformat": 4,
 "nbformat_minor": 1
}
